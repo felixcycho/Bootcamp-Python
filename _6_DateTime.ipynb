{
 "cells": [
  {
   "cell_type": "code",
   "execution_count": null,
   "id": "836c1928",
   "metadata": {},
   "outputs": [
    {
     "name": "stdout",
     "output_type": "stream",
     "text": [
      "2025-10-15 15:27:06.816481\n",
      "2025-10-15\n",
      "2020-11-30\n",
      "2021-01-29\n"
     ]
    }
   ],
   "source": [
    "from datetime import datetime, date, timedelta\n",
    "\n",
    "print(datetime.now())                                # 2025-10-15 15:27:06.816481\n",
    "print(date.today())                                  # 2025-10-15\n",
    "\n",
    "birthday = date(2020, 11, 30)\n",
    "print(birthday)                                      # 2020-11-30\n",
    "\n",
    "new_birthday = birthday + timedelta(days = 60)\n",
    "print(new_birthday)                                  # 2021-01-29\n"
   ]
  },
  {
   "cell_type": "code",
   "execution_count": null,
   "id": "a76b409b",
   "metadata": {},
   "outputs": [
    {
     "name": "stdout",
     "output_type": "stream",
     "text": [
      "2026-01-15\n",
      "2026-10-15\n",
      "2025-10-16\n",
      "2025-07-15\n",
      "2024-10-15\n",
      "2025-10-14\n"
     ]
    }
   ],
   "source": [
    "from dateutil.relativedelta import relativedelta\n",
    "\n",
    "probation_end_date = date.today() + relativedelta(months = 3)\n",
    "print(probation_end_date)                                            # 2026-01-15\n",
    "\n",
    "one_year_after = date.today() + relativedelta(years = 1)\n",
    "print(one_year_after)                                                # 2026-10-15\n",
    "\n",
    "tomorrow = date.today() + relativedelta(days = 1)\n",
    "print(tomorrow)                                                      # 2025-10-16\n",
    "\n",
    "three_months_before = date.today() - relativedelta(months = 3)\n",
    "print(three_months_before)                                           # 2025-07-15\n",
    "\n",
    "one_year_before = date.today() - relativedelta(years = 1)\n",
    "print(one_year_before)                                               # 2024-10-15\n",
    "\n",
    "yesterday = date.today() - relativedelta(days = 1)\n",
    "print(yesterday)                                                     # 2025-10-14\n"
   ]
  },
  {
   "cell_type": "code",
   "execution_count": null,
   "id": "823f5ff4",
   "metadata": {},
   "outputs": [
    {
     "name": "stdout",
     "output_type": "stream",
     "text": [
      "2025-10-15 15:36:52\n",
      "<class 'str'>\n",
      "2025-12-31 23:59:59\n",
      "<class 'datetime.datetime'>\n"
     ]
    }
   ],
   "source": [
    "formatted_datetime = datetime.now().strftime(\"%Y-%m-%d %H:%M:%S\")\n",
    "print(formatted_datetime)                  # 2025-10-15 15:36:52\n",
    "print(type(formatted_datetime))            # <class 'str'>\n",
    "\n",
    "str_datetime = \"2025/12/31 23:59:59\"\n",
    "parsed_datetime = datetime.strptime(str_datetime, \"%Y/%m/%d %H:%M:%S\")\n",
    "print(parsed_datetime)                     # 2025-12-31 23:59:59\n",
    "print(type(parsed_datetime))               # <class 'datetime.datetime'>"
   ]
  }
 ],
 "metadata": {
  "kernelspec": {
   "display_name": "bootcamp-env",
   "language": "python",
   "name": "python3"
  },
  "language_info": {
   "codemirror_mode": {
    "name": "ipython",
    "version": 3
   },
   "file_extension": ".py",
   "mimetype": "text/x-python",
   "name": "python",
   "nbconvert_exporter": "python",
   "pygments_lexer": "ipython3",
   "version": "3.13.8"
  }
 },
 "nbformat": 4,
 "nbformat_minor": 5
}
