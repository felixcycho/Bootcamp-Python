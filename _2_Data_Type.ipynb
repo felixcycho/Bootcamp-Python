{
 "cells": [
  {
   "cell_type": "code",
   "execution_count": null,
   "id": "0b51c8b7",
   "metadata": {},
   "outputs": [
    {
     "name": "stdout",
     "output_type": "stream",
     "text": [
      "hello 3\n",
      "goodbye False\n"
     ]
    }
   ],
   "source": [
    "# String + operation\n",
    "# Python:  String + String => String\n",
    "# Python:  String + other type data --> error\n",
    "\n",
    "# s = \"hello\" + 3\n",
    "# print (s)                 # error\n",
    "\n",
    "x = 3\n",
    "s = \"hello \" + str(x)\n",
    "print(s)\n",
    "print('goodbye ' + str(False))"
   ]
  }
 ],
 "metadata": {
  "kernelspec": {
   "display_name": "bootcamp-env",
   "language": "python",
   "name": "python3"
  },
  "language_info": {
   "codemirror_mode": {
    "name": "ipython",
    "version": 3
   },
   "file_extension": ".py",
   "mimetype": "text/x-python",
   "name": "python",
   "nbconvert_exporter": "python",
   "pygments_lexer": "ipython3",
   "version": "3.13.8"
  }
 },
 "nbformat": 4,
 "nbformat_minor": 5
}
