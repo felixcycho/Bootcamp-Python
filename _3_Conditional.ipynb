{
 "cells": [
  {
   "cell_type": "code",
   "execution_count": null,
   "id": "9f07af14",
   "metadata": {},
   "outputs": [
    {
     "name": "stdout",
     "output_type": "stream",
     "text": [
      "hello\n"
     ]
    }
   ],
   "source": [
    "# x = 10\n",
    "# if x > 9:\n",
    "# print(\"hello\")\n",
    "# else:\n",
    "# print(\"goodbye\")\n",
    "#  Python does not have explicit code block {},\n",
    "  # we have to use at least one space to indicate the code block.\n",
    "\n",
    "x = 10\n",
    "if x > 9:\n",
    "  print(\"hello\")       # hello\n",
    "else:\n",
    "  print(\"goodbye\")"
   ]
  },
  {
   "cell_type": "code",
   "execution_count": null,
   "id": "0a81ae91",
   "metadata": {},
   "outputs": [
    {
     "name": "stdout",
     "output_type": "stream",
     "text": [
      "The score is 89, and the grade is B.\n"
     ]
    }
   ],
   "source": [
    "score = 89\n",
    "\n",
    "if score >= 90:\n",
    "  grade = \"A\"\n",
    "elif score >= 80:\n",
    "  grade = \"B\"\n",
    "elif score >= 70:\n",
    "  grade = \"C\"\n",
    "elif score >= 60:\n",
    "  grade = \"D\"\n",
    "elif score >= 50:\n",
    "  grade = \"E\"\n",
    "else:\n",
    "  grade = \"F\"\n",
    "\n",
    "print(f\"The score is {score}, and the grade is {grade}.\")\n",
    "# The score is 89, and the grade is B."
   ]
  },
  {
   "cell_type": "code",
   "execution_count": null,
   "id": "7a580c41",
   "metadata": {},
   "outputs": [
    {
     "name": "stdout",
     "output_type": "stream",
     "text": [
      "goodbye\n",
      "goodbye\n",
      "hello\n"
     ]
    }
   ],
   "source": [
    "# AND OR\n",
    "# Java && ||\n",
    "# Python and or\n",
    "\n",
    "x = 10\n",
    "if (x > 4 and x < 7):\n",
    "  print(\"hello\")\n",
    "else:\n",
    "  print(\"goodbye\")      # goodbye\n",
    "\n",
    "if (4 < x < 7):\n",
    "  print(\"hello\")\n",
    "else:\n",
    "  print(\"goodbye\")      # goodbye\n",
    "\n",
    "if (x > 10 or x < 20):\n",
    "  print(\"hello\")        # hello\n",
    "else:\n",
    "  print(\"goodbye\")\n",
    "\n"
   ]
  },
  {
   "cell_type": "code",
   "execution_count": null,
   "id": "08ca7d7f",
   "metadata": {},
   "outputs": [
    {
     "name": "stdout",
     "output_type": "stream",
     "text": [
      "2\n"
     ]
    }
   ],
   "source": [
    "# age >= 65, fee = 2, otherwise fee = 10\n",
    "age = 66\n",
    "\n",
    "fee = 2 if age >= 65 else 10\n",
    "print(fee)                       # 2"
   ]
  },
  {
   "cell_type": "code",
   "execution_count": null,
   "id": "84ea8872",
   "metadata": {},
   "outputs": [
    {
     "name": "stdout",
     "output_type": "stream",
     "text": [
      "Female\n",
      "Female\n"
     ]
    }
   ],
   "source": [
    "# Java (not -> !)\n",
    "is_male = False\n",
    "if (not is_male):\n",
    "  print(\"Female\")               # Female\n",
    "else:\n",
    "  print(\"Male\")\n",
    "\n",
    "if (is_male != True):\n",
    "  print(\"Female\")               # Female\n",
    "if (is_male == True):\n",
    "  print(\"Male\")\n",
    "  "
   ]
  },
  {
   "cell_type": "code",
   "execution_count": null,
   "id": "220885b0",
   "metadata": {},
   "outputs": [
    {
     "name": "stdout",
     "output_type": "stream",
     "text": [
      "Login success.\n",
      "False\n",
      "True\n"
     ]
    }
   ],
   "source": [
    "# Java equals()\n",
    "password = \"admin1234\"\n",
    "entered_password = \"admin1234\"\n",
    "\n",
    "if (password == entered_password):\n",
    "  print(\"Login success.\")                     # Login success.\n",
    "else:\n",
    "  print(\"Login fail.\")\n",
    "\n",
    "print(password != entered_password)           # False\n",
    "print(password == entered_password)           # True"
   ]
  },
  {
   "cell_type": "code",
   "execution_count": null,
   "id": "c76de7ca",
   "metadata": {},
   "outputs": [
    {
     "name": "stdout",
     "output_type": "stream",
     "text": [
      "Number is odd.\n"
     ]
    }
   ],
   "source": [
    "number = 9\n",
    "\n",
    "# ODD EVEN\n",
    "if (number % 2 == 0):\n",
    "  print(\"Number is even.\")\n",
    "else:\n",
    "  print(\"Number is odd.\")               # Number is odd."
   ]
  },
  {
   "cell_type": "code",
   "execution_count": null,
   "id": "727bc2d8",
   "metadata": {},
   "outputs": [
    {
     "name": "stdout",
     "output_type": "stream",
     "text": [
      "It is elderly.\n",
      "Mon\n"
     ]
    }
   ],
   "source": [
    "# Java: switch\n",
    "# Python: > 3.10 (match)\n",
    "\n",
    "# Disadvantage: No range checking.\n",
    "\n",
    "is_elderly = True\n",
    "\n",
    "match is_elderly:\n",
    "  case True:\n",
    "    print(\"It is elderly.\")             # It is elderly.\n",
    "  case False:\n",
    "    print(\"It is not elderly.\")\n",
    "\n",
    "weekday = \"Monday\"\n",
    "match weekday:\n",
    "  case 'Monday':\n",
    "    print(\"Mon\")                        # Mon\n",
    "  case 'Tuesday':\n",
    "    print(\"Tue\")\n",
    "  case 'Wednesday':\n",
    "    print(\"Wed\")\n",
    "  case 'Thursday':\n",
    "    print(\"Thu\")\n",
    "  case 'Friday':\n",
    "    print(\"Fri\")\n",
    "  case 'Saturday':\n",
    "    print(\"Sat\")\n",
    "  case 'Sunday':\n",
    "    print(\"Sun\")\n",
    "  case _:\n",
    "    print(\"Not found.\")"
   ]
  }
 ],
 "metadata": {
  "kernelspec": {
   "display_name": "bootcamp-env",
   "language": "python",
   "name": "python3"
  },
  "language_info": {
   "codemirror_mode": {
    "name": "ipython",
    "version": 3
   },
   "file_extension": ".py",
   "mimetype": "text/x-python",
   "name": "python",
   "nbconvert_exporter": "python",
   "pygments_lexer": "ipython3",
   "version": "3.13.8"
  }
 },
 "nbformat": 4,
 "nbformat_minor": 5
}
