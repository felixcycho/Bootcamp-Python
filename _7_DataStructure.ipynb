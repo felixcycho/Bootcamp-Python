{
 "cells": [
  {
   "cell_type": "code",
   "execution_count": null,
   "id": "714682a4",
   "metadata": {},
   "outputs": [
    {
     "name": "stdout",
     "output_type": "stream",
     "text": [
      "['Steven', 'John', 'Jennie', 'Lucas', 'Leo']\n",
      "['Steven', 'John', 'Peter', 'Jennie', 'Lucas', 'Leo']\n",
      "['Steven', 'John', 'Peter', 'Jennie']\n",
      "['Jennie', 'John', 'Leo', 'Lucas', 'Peter', 'Steven']\n",
      "John\n",
      "['Jennie', 'Leo', 'Lucas', 'Peter', 'Steven']\n",
      "[]\n",
      "0\n"
     ]
    }
   ],
   "source": [
    "# List\n",
    "names = [\"John\", \"Steven\", \"John\", \"Jennie\", \"Lucas\"]\n",
    "names.append(\"Leo\")\n",
    "names.remove(\"John\")\n",
    "print(names)                        # ['Steven', 'John', 'Jennie', 'Lucas', 'Leo']\n",
    "\n",
    "names.insert(2, \"Peter\")\n",
    "print(names)                        # ['Steven', 'John', 'Peter', 'Jennie', 'Lucas', 'Leo']\n",
    "\n",
    "print(names[:4])                    # ['Steven', 'John', 'Peter', 'Jennie']\n",
    "\n",
    "names.sort()\n",
    "print(names)                        # ['Jennie', 'John', 'Leo', 'Lucas', 'Peter', 'Steven']\n",
    "\n",
    "pop_result = names.pop(1)\n",
    "print(pop_result)                   # John\n",
    "print(names)                        # ['Jennie', 'Leo', 'Lucas', 'Peter', 'Steven']\n",
    "\n",
    "names.clear()\n",
    "print(names)                        # []\n",
    "print(len(names))                   # 0"
   ]
  },
  {
   "cell_type": "code",
   "execution_count": null,
   "id": "79b14952",
   "metadata": {},
   "outputs": [
    {
     "name": "stdout",
     "output_type": "stream",
     "text": [
      "['apple', 'orange', 3, -4, 100]\n",
      "<class 'list'>\n",
      "apple\n",
      "orange\n",
      "3\n",
      "-4\n",
      "100\n"
     ]
    }
   ],
   "source": [
    "list1 = [\"apple\", \"orange\"]\n",
    "list2 = [3, -4, 100]\n",
    "list3 = list1 + list2\n",
    "print(list3)                 # ['apple', 'orange', 3, -4, 100]\n",
    "print(type(list3))           # <class 'list'>\n",
    "\n",
    "for e in list3:\n",
    "  print(e)                   # apple\n",
    "                             # orange\n",
    "                             # 3\n",
    "                             # -4\n",
    "                             # 100"
   ]
  },
  {
   "cell_type": "code",
   "execution_count": 19,
   "id": "31ff7eca",
   "metadata": {},
   "outputs": [
    {
     "name": "stdout",
     "output_type": "stream",
     "text": [
      "<class 'set'>\n",
      "{2, 4, 9, 10, -3}\n",
      "{2, 9, 10, -3}\n",
      "{32, 2, 4, 5, 40, 9, 10, 41, -3}\n",
      "{9, 4}\n",
      "{8, 9, 4}\n",
      "{0, 9, 10, 4}\n"
     ]
    }
   ],
   "source": [
    "# set\n",
    "ages = {2, 4, 9, -3}\n",
    "print(type(ages))                     # <class 'set'>\n",
    "\n",
    "ages.add(10)\n",
    "print(ages)                           # {2, 4, 9, 10, -3}\n",
    "\n",
    "ages.remove(4)\n",
    "print(ages)                           # {2, p, 10, -3}\n",
    "\n",
    "marksix = {9, 41, 4, 5, 40, 32}\n",
    "ages.update(marksix)                   # combine and remove duplicate\n",
    "print(ages)                            # {32, 2, 4, 5, 40, 9, 10, 41, -3}\n",
    "\n",
    "set1 = {9, 4, 8}\n",
    "set2 = {10, 4, 9, 0}\n",
    "print(set1.intersection(set2))         # {9, 4}\n",
    "print(set1)                            # {8, 9, 4}\n",
    "print(set2)                            # {0, 9, 10, 4}"
   ]
  },
  {
   "cell_type": "code",
   "execution_count": 22,
   "id": "de083647",
   "metadata": {},
   "outputs": [
    {
     "name": "stdout",
     "output_type": "stream",
     "text": [
      "<class 'dict'>\n",
      "23\n",
      "1.76\n",
      "John\n",
      "key: name, value: John\n",
      "key: age, value: 23\n",
      "key: height, value: 1.76\n",
      "dict_keys(['name', 'age', 'height'])\n",
      "dict_values(['John', 23, 1.76])\n"
     ]
    }
   ],
   "source": [
    "person = {\n",
    "  \"name\" : \"John\",\n",
    "  \"age\" : 23,\n",
    "  \"height\" : 1.76\n",
    "}\n",
    "\n",
    "print(type(person))                    # <class 'dict'>\n",
    "print(person['age'])                   # 23\n",
    "print(person['height'])                # 1.76\n",
    "print(person['name'])                  # John\n",
    "\n",
    "for k, v in person.items():\n",
    "  print(f\"key: {k}, value: {v}\")       # key: name, value: John\n",
    "                                       # key: age, value: 23\n",
    "                                       # key: height, value: 1.76\n",
    "\n",
    "print(person.keys())                   # dict_keys(['name', 'age', 'height'])\n",
    "print(person.values())                 # dict_values(['John', 23, 1.76])\n",
    "\n",
    "\n"
   ]
  },
  {
   "cell_type": "code",
   "execution_count": null,
   "id": "8282bc82",
   "metadata": {},
   "outputs": [
    {
     "name": "stdout",
     "output_type": "stream",
     "text": [
      "20\n",
      "37\n",
      "John\n",
      "False\n",
      "{12: 'John', 'age': 37, True: 20, 25: False}\n",
      "{12: 'John', 'age': 37, True: 'Steven', 25: False}\n",
      "{12: 'John', 'age': 37, True: 'Steven', 25: False, 'books': ['ABC', 'DEF', 'IJK']}\n",
      "{12: 'John', 'age': 37, True: 'Steven', 25: False, 'books': ['ABC', 'DEF', 'IJK'], 'phones': {9000, 1234, 2222}}\n",
      "<class 'set'>\n",
      "<class 'dict'>\n"
     ]
    }
   ],
   "source": [
    "student = {\n",
    "  12 : \"John\",\n",
    "  \"age\" : 37,\n",
    "  True : 20\n",
    "}\n",
    "\n",
    "print(student[True])     # 20\n",
    "print(student['age'])    # 37\n",
    "print(student[12])       # John\n",
    "\n",
    "student[25] = False\n",
    "print(student[25])       # False\n",
    "print(student)           # {12: 'John', 'age': 37, True: 20, 25: False}\n",
    "\n",
    "student.update({True : \"Steven\"})\n",
    "print(student)           # {12: 'John', 'age': 37, True: 'Steven', 25: False}\n",
    "\n",
    "student[\"books\"] = [\"ABC\", \"DEF\", \"IJK\"]\n",
    "print(student)           # {12: 'John', 'age': 37, True: 'Steven', 25: False, 'books': ['ABC', 'DEF', 'IJK']}\n",
    "\n",
    "student[\"phones\"] = {1234, 9000, 2222}\n",
    "print(student)           \n",
    "# {12: 'John', 'age': 37, True: 'Steven', 25: False, 'books': ['ABC', 'DEF', 'IJK'], 'phones': {9000, 1234, 2222}}}\n",
    "\n",
    "print(type(student[\"phones\"]))                    # <class 'set'>\n",
    "print(type(student))                              # <class 'dict'>\n",
    "\n",
    "\n"
   ]
  },
  {
   "cell_type": "code",
   "execution_count": null,
   "id": "c80a7412",
   "metadata": {},
   "outputs": [
    {
     "name": "stdout",
     "output_type": "stream",
     "text": [
      "[{'name': 'John', 'age': 30}, {'name': 'Mary', 'phone': '852 12345678'}, {'name': 'Sally', 'is_male': False}]\n"
     ]
    }
   ],
   "source": [
    "# List of dictionary\n",
    "members = [\n",
    "  {\n",
    "    \"name\" : \"John\",\n",
    "    \"age\" : 30\n",
    "  },\n",
    "  {\n",
    "    \"name\" : \"Mary\",\n",
    "    \"phone\" : \"852 12345678\"\n",
    "  },\n",
    "  {\n",
    "    \"name\" : \"Sally\",\n",
    "    \"is_male\" : False\n",
    "  }\n",
    "]\n",
    "\n",
    "print(members)\n",
    "# [{'name': 'John', 'age': 30}, {'name': 'Mary', 'phone': '852 12345678'}, {'name': 'Sally', 'is_male': False}]\n",
    "\n"
   ]
  },
  {
   "cell_type": "code",
   "execution_count": null,
   "id": "f1b8b03a",
   "metadata": {},
   "outputs": [
    {
     "name": "stdout",
     "output_type": "stream",
     "text": [
      "<class 'tuple'>\n",
      "20000\n",
      "25000\n",
      "<class 'int'>\n",
      "['ABC', 'IJK']\n"
     ]
    }
   ],
   "source": [
    "# [] : list\n",
    "# {} : set\n",
    "# () with : and , --> dictionary\n",
    "# () with , --> tuple\n",
    "\n",
    "# tuple ( > 1 element)\n",
    "salary = (20000, 25000)\n",
    "print(type(salary))               # <class 'tuple'>\n",
    "\n",
    "print(salary[0])                  # 20000\n",
    "print(salary[1])                  # 25000\n",
    "\n",
    "amount = (1500)\n",
    "print(type(amount))               # <class 'int'>\n",
    "\n",
    "elements \\\n",
    "= (True, 3, False, 40.9, [\"ABC\", \"IJK\"])\n",
    "print(elements[4])                # ['ABC', 'IJK']"
   ]
  }
 ],
 "metadata": {
  "kernelspec": {
   "display_name": "bootcamp-env",
   "language": "python",
   "name": "python3"
  },
  "language_info": {
   "codemirror_mode": {
    "name": "ipython",
    "version": 3
   },
   "file_extension": ".py",
   "mimetype": "text/x-python",
   "name": "python",
   "nbconvert_exporter": "python",
   "pygments_lexer": "ipython3",
   "version": "3.13.8"
  }
 },
 "nbformat": 4,
 "nbformat_minor": 5
}
