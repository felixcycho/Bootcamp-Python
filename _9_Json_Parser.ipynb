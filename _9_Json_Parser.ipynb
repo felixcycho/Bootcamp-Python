{
 "cells": [
  {
   "cell_type": "code",
   "execution_count": 54,
   "id": "e46b3faf",
   "metadata": {},
   "outputs": [
    {
     "name": "stdout",
     "output_type": "stream",
     "text": [
      "<class 'dict'>\n",
      "Vincent\n",
      "18\n"
     ]
    }
   ],
   "source": [
    "import json\n",
    "\n",
    "# JSON --> Dictionary\n",
    "json_str = '{\"name\" : \"Vincent\", \"age\" : 18}'\n",
    "dictionary1 = json.loads(json_str)\n",
    "print(type(dictionary1))                         # <class 'dict'>\n",
    "print(dictionary1['name'])                       # Vincent\n",
    "print(dictionary1['age'])                        # 18\n",
    "\n",
    "json_missing_comma = '{\"name\" : \"Vincent\" \"age\" : 18}'\n",
    "# dictionary2 = json.loads(json_missing_comma)     \n",
    "  # JSONDecodeError: Expecting ',' delimiter: line 1 column 21 (char 20)\n"
   ]
  },
  {
   "cell_type": "code",
   "execution_count": 55,
   "id": "bd91b628",
   "metadata": {},
   "outputs": [
    {
     "name": "stdout",
     "output_type": "stream",
     "text": [
      "<class 'dict'>\n",
      "{'name': 'Vincent', 'age': 18}\n",
      "<class 'str'>\n",
      "{\n",
      "  \"name\": \"Vincent\",\n",
      "  \"age\": 18\n",
      "}\n"
     ]
    }
   ],
   "source": [
    "import json\n",
    "\n",
    "# Dictionary --> JSON\n",
    "json_str = '{\"name\" : \"Vincent\", \"age\" : 18}'\n",
    "dictionary1 = json.loads(json_str)\n",
    "print(type(dictionary1))                               # <class 'dict'>\n",
    "print(dictionary1)                                     # {'name': 'Vincent', 'age': 18}\n",
    "\n",
    "json_str1 = json.dumps(dictionary1, indent = 2)\n",
    "print(type(json_str1))                                 # <class 'str'>\n",
    "print(json_str1)\n",
    "# {\n",
    "#  \"name\": \"Vincent\",\n",
    "#  \"age\": 18\n",
    "# }"
   ]
  },
  {
   "cell_type": "code",
   "execution_count": 56,
   "id": "9747c355",
   "metadata": {},
   "outputs": [
    {
     "name": "stdout",
     "output_type": "stream",
     "text": [
      "{'name': 'Jacky', 'age': 24, 'phones': ['+852 12345678', '+852 09876543']}\n",
      "<class 'dict'>\n",
      "{\n",
      "  \"name\": \"Jacky\",\n",
      "  \"age\": 24,\n",
      "  \"phones\": [\n",
      "    \"+852 12345678\",\n",
      "    \"+852 09876543\"\n",
      "  ]\n",
      "}\n",
      "<class 'str'>\n",
      "{'name': 'Candice', 'age': 24}\n",
      "<class 'dict'>\n"
     ]
    }
   ],
   "source": [
    "# JSON file --> Dictionary --> String\n",
    "with open(\"user1.json\", \"r\") as file:\n",
    "  user_dict = json.load(file)\n",
    "print(user_dict)                     # {'name': 'Jacky', 'age': 24, 'phones': ['+852 12345678', '+852 09876543']}\n",
    "print(type(user_dict))               # <class 'dict'>\n",
    "\n",
    "user_str = json.dumps(user_dict, indent = 2)\n",
    "print(user_str)\n",
    "# {\n",
    "#   \"name\": \"Jacky\",\n",
    "#   \"age\": 24,\n",
    "#   \"phones\": [\n",
    "#     \"+852 12345678\",\n",
    "#     \"+852 09876543\"\n",
    "#   ]\n",
    "# }\n",
    "print(type(user_str))                # <class 'str'>\n",
    "\n",
    "# String --> Dictionary --> write JSON file\n",
    "cat_str = '{ \"name\" : \"Candice\", \"age\" : 24 }'\n",
    "cat_dict = json.loads(cat_str)\n",
    "print(cat_dict)                      # {'name': 'Candice', 'age': 24}\n",
    "print(type(cat_dict))                # <class 'dict'>\n",
    "\n",
    "# to write a JSON file by using Python\n",
    "with open(\"cat.json\", \"w\") as file:\n",
    "  json.dump(cat_dict, file, indent = 2)\n"
   ]
  },
  {
   "cell_type": "code",
   "execution_count": null,
   "id": "5ddfa8ea",
   "metadata": {},
   "outputs": [
    {
     "name": "stdout",
     "output_type": "stream",
     "text": [
      "<class 'list'>\n",
      "[{'name': 'John', 'age': 13, 'address': {'city': 'Hong Kong', 'zip': '000000'}}, {'name': 'Jacky', 'age': 27, 'address': {'city': 'New York', 'zip': '000123'}}, {'name': 'Mary', 'age': 10, 'address': {'city': 'New York', 'zip': '000123'}}]\n",
      "<class 'list'>\n",
      "[{'name': 'Jacky', 'age': 27, 'address': {'city': 'New York', 'zip': '000123'}}, {'name': 'Mary', 'age': 10, 'address': {'city': 'New York', 'zip': '000123'}}]\n"
     ]
    }
   ],
   "source": [
    "# load JSON file to list\n",
    "with open(\"persons.json\", \"r\") as persons_json:\n",
    "  person_list = json.load(persons_json)\n",
    "  print(type(person_list))                   # <class 'list'>\n",
    "  print(person_list)\n",
    "  # [{'name': 'John', 'age': 13, 'address': {'city': 'Hong Kong', 'zip': '000000'}}, \n",
    "  #  {'name': 'Jacky', 'age': 27, 'address': {'city': 'New York', 'zip': '000123'}}, \n",
    "  #  {'name': 'Mary', 'age': 10, 'address': {'city': 'New York', 'zip': '000123'}}]\n",
    "\n",
    "# function / lambda --> New York\n",
    "new_york_persons = list(filter(lambda x : x['address'][\"city\"] == \"New York\", person_list))\n",
    "print(type(new_york_persons))                # <class 'list'>\n",
    "print(new_york_persons)\n",
    "# [{'name': 'Jacky', 'age': 27, 'address': {'city': 'New York', 'zip': '000123'}}, \n",
    "#  {'name': 'Mary', 'age': 10, 'address': {'city': 'New York', 'zip': '000123'}}]\n",
    "\n",
    "# to write JSON file by using Python\n",
    "with open(\"new_york_persons.json\", \"w\") as file:\n",
    "  json.dump(new_york_persons, file, indent = 2)"
   ]
  }
 ],
 "metadata": {
  "kernelspec": {
   "display_name": "bootcamp-env",
   "language": "python",
   "name": "python3"
  },
  "language_info": {
   "codemirror_mode": {
    "name": "ipython",
    "version": 3
   },
   "file_extension": ".py",
   "mimetype": "text/x-python",
   "name": "python",
   "nbconvert_exporter": "python",
   "pygments_lexer": "ipython3",
   "version": "3.13.8"
  }
 },
 "nbformat": 4,
 "nbformat_minor": 5
}
