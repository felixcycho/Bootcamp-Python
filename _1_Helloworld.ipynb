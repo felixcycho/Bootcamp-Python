{
 "cells": [
  {
   "cell_type": "code",
   "execution_count": null,
   "id": "5cf901e4",
   "metadata": {},
   "outputs": [
    {
     "name": "stdout",
     "output_type": "stream",
     "text": [
      "5\n",
      "18\n"
     ]
    }
   ],
   "source": [
    "print(2 + 3)\n",
    "print(7 + 11)"
   ]
  },
  {
   "cell_type": "code",
   "execution_count": null,
   "id": "1956f660",
   "metadata": {},
   "outputs": [
    {
     "name": "stdout",
     "output_type": "stream",
     "text": [
      "3\n",
      "<class 'int'>\n",
      "7.5\n",
      "<class 'float'>\n",
      "hello\n",
      "<class 'str'>\n",
      "False\n",
      "<class 'bool'>\n",
      "True\n",
      "<class 'bool'>\n"
     ]
    }
   ],
   "source": [
    "# Does Python variable with Type concept?   YES\n",
    "# Java --> Static (Compile time + Run time) + Strong type\n",
    "# Python --> Dynamic (Run time only) + Strong type\n",
    "x = 3\n",
    "print(x)\n",
    "print(type(x))\n",
    "\n",
    "x = 7.5\n",
    "print(x)\n",
    "print(type(x))\n",
    "\n",
    "x = 'hello'\n",
    "print(x)\n",
    "print(type(x))\n",
    "\n",
    "x = False\n",
    "y = True\n",
    "print(x)\n",
    "print(type(x))\n",
    "print(y)\n",
    "print(type(y))\n",
    "\n",
    "# int, float, str, bool\n"
   ]
  },
  {
   "cell_type": "code",
   "execution_count": null,
   "id": "b736737b",
   "metadata": {},
   "outputs": [
    {
     "name": "stdout",
     "output_type": "stream",
     "text": [
      "John\n",
      "Mary\n",
      "abc\n",
      "def\n",
      "hello hello hello \n",
      "hello hello hello hello \n",
      "hello hello hello hello hello \n"
     ]
    }
   ],
   "source": [
    "# str\n",
    "name = 'John'\n",
    "first_name = \"Mary\"\n",
    "print(name)\n",
    "print(first_name)\n",
    "\n",
    "print('abc')\n",
    "print(\"def\")\n",
    "\n",
    "# + and *\n",
    "s = 'hello '\n",
    "s = s * 3\n",
    "print(s)\n",
    "\n",
    "s = s + 'hello '\n",
    "print(s)\n",
    "\n",
    "s += \"hello \"\n",
    "print(s)\n",
    "\n",
    "# java: find min and max (by 1 loop)\n",
    "# python:  2 loops (call min function, call max function)"
   ]
  },
  {
   "cell_type": "code",
   "execution_count": null,
   "id": "82373c08",
   "metadata": {},
   "outputs": [
    {
     "name": "stdout",
     "output_type": "stream",
     "text": [
      "3.3333333333333335\n",
      "0.30000000000000004\n"
     ]
    },
    {
     "ename": "ZeroDivisionError",
     "evalue": "division by zero",
     "output_type": "error",
     "traceback": [
      "\u001b[31m---------------------------------------------------------------------------\u001b[39m",
      "\u001b[31mZeroDivisionError\u001b[39m                         Traceback (most recent call last)",
      "\u001b[36mCell\u001b[39m\u001b[36m \u001b[39m\u001b[32mIn[13]\u001b[39m\u001b[32m, line 8\u001b[39m\n\u001b[32m      5\u001b[39m result2 = \u001b[32m0.2\u001b[39m + \u001b[32m0.1\u001b[39m\n\u001b[32m      6\u001b[39m \u001b[38;5;28mprint\u001b[39m (result2)\n\u001b[32m----> \u001b[39m\u001b[32m8\u001b[39m result3 = \u001b[32;43m10\u001b[39;49m\u001b[43m \u001b[49m\u001b[43m/\u001b[49m\u001b[43m \u001b[49m\u001b[32;43m0\u001b[39;49m\n\u001b[32m      9\u001b[39m \u001b[38;5;28mprint\u001b[39m (result3)\n",
      "\u001b[31mZeroDivisionError\u001b[39m: division by zero"
     ]
    }
   ],
   "source": [
    "result = 10 / 3\n",
    "print(result)\n",
    "\n",
    "# floating point issue\n",
    "result2 = 0.2 + 0.1\n",
    "print(result2)\n",
    "\n",
    "# result3 = 10 / 0\n",
    "# print (result3)\n",
    "# ZeroDivisionError: division by zero"
   ]
  },
  {
   "cell_type": "code",
   "execution_count": null,
   "id": "3700afab",
   "metadata": {},
   "outputs": [
    {
     "name": "stdout",
     "output_type": "stream",
     "text": [
      "P\n",
      "n\n",
      "h\n",
      "Pyt\n",
      "on\n",
      "t\n",
      "python\n",
      "PYTHON\n",
      "Pxthon\n"
     ]
    }
   ],
   "source": [
    "# Java charAt\n",
    "word = \"Python\"     # char array / String\n",
    "print(word[0])\n",
    "print(word[-1])\n",
    "print(word[-3])\n",
    "\n",
    "# Java substring(0,3)\n",
    "print(word[:3])\n",
    "print(word[4:])\n",
    "print(word[2:3])\n",
    "\n",
    "# Function\n",
    "# Java instance method\n",
    "print(word.lower())\n",
    "print(word.upper())\n",
    "print(word.replace('y', 'x'))\n"
   ]
  },
  {
   "cell_type": "code",
   "execution_count": 5,
   "id": "3ee94c2e",
   "metadata": {},
   "outputs": [
    {
     "name": "stdout",
     "output_type": "stream",
     "text": [
      "<class 'list'>\n",
      "['apple', 'orange', 'lemon']\n",
      "apple, orange, lemon\n"
     ]
    }
   ],
   "source": [
    "csv_row = \"apple,orange,lemon\"\n",
    "result = csv_row.split(\",\")\n",
    "print(type(result))\n",
    "print(result)\n",
    "\n",
    "new_csv_row = \", \".join(result)\n",
    "print(new_csv_row)"
   ]
  },
  {
   "cell_type": "code",
   "execution_count": null,
   "id": "44968e58",
   "metadata": {},
   "outputs": [
    {
     "name": "stdout",
     "output_type": "stream",
     "text": [
      "2\n",
      "False\n",
      "True\n",
      "True\n",
      "False\n",
      "True\n",
      "True\n"
     ]
    }
   ],
   "source": [
    "student_name = \"Steven\"\n",
    "print(student_name.count('e'))\n",
    "print(student_name.isdigit())          # False\n",
    "print(student_name.isalpha())          # True\n",
    "print(student_name.startswith(\"S\"))    # True\n",
    "print(student_name.startswith('s'))    # False\n",
    "print(student_name.endswith(\"en\"))     # True\n",
    "\n",
    "score = \"93\"\n",
    "print(score.isdigit())                 # True"
   ]
  },
  {
   "cell_type": "code",
   "execution_count": 9,
   "id": "08b51480",
   "metadata": {},
   "outputs": [
    {
     "name": "stdout",
     "output_type": "stream",
     "text": [
      "The student name is Jennie, the age is 24.\n"
     ]
    }
   ],
   "source": [
    "# Java System.out.println(\"hello\" + name)\n",
    "name = \"Jennie\"\n",
    "age = 24\n",
    "print(f\"The student name is {name}, the age is {age}.\")"
   ]
  }
 ],
 "metadata": {
  "kernelspec": {
   "display_name": "bootcamp-env",
   "language": "python",
   "name": "python3"
  },
  "language_info": {
   "codemirror_mode": {
    "name": "ipython",
    "version": 3
   },
   "file_extension": ".py",
   "mimetype": "text/x-python",
   "name": "python",
   "nbconvert_exporter": "python",
   "pygments_lexer": "ipython3",
   "version": "3.13.8"
  }
 },
 "nbformat": 4,
 "nbformat_minor": 5
}
