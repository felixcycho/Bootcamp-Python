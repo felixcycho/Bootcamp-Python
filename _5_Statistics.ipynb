{
 "cells": [
  {
   "cell_type": "code",
   "execution_count": null,
   "id": "79c3351e",
   "metadata": {},
   "outputs": [
    {
     "name": "stdout",
     "output_type": "stream",
     "text": [
      "3.0\n",
      "81.0\n",
      "4\n",
      "3\n",
      "3.141592653589793\n"
     ]
    }
   ],
   "source": [
    "import math\n",
    "\n",
    "print(math.sqrt(9))       # 3.0\n",
    "print(math.pow(3, 4))     # 81.0\n",
    "print(math.ceil(3.3))     # 4\n",
    "print(math.floor(3.9))    # 3\n",
    "print(math.pi)            # 3.141592653589793\n",
    "\n",
    "radius = 3.5\n",
    "circle_area = radius ** 2 * math.pi      # a ** b means a ^ b\n",
    "print(circle_area)        # 38.4845100000647496\n"
   ]
  },
  {
   "cell_type": "code",
   "execution_count": null,
   "id": "7cce5b94",
   "metadata": {},
   "outputs": [
    {
     "name": "stdout",
     "output_type": "stream",
     "text": [
      "40.0\n",
      "47.875\n",
      "37.96779650478246\n",
      "99\n"
     ]
    }
   ],
   "source": [
    "import statistics\n",
    "\n",
    "numbers = [20, 50, 70, 30, 10, 99, 5, 99]\n",
    "\n",
    "print(statistics.median(numbers))         # 40\n",
    "print(statistics.mean(numbers))           # 47.875\n",
    "print(statistics.stdev(numbers))          # 37.96779650478246\n",
    "print(statistics.mode(numbers))           # 99"
   ]
  },
  {
   "cell_type": "code",
   "execution_count": null,
   "id": "327cc8f8",
   "metadata": {},
   "outputs": [
    {
     "name": "stdout",
     "output_type": "stream",
     "text": [
      "7.6\n",
      "7\n",
      "7\n",
      "7.6\n"
     ]
    }
   ],
   "source": [
    "no_of_student = 38\n",
    "group_size = 5\n",
    "\n",
    "print(no_of_student / group_size)                  # 7.6\n",
    "print(no_of_student // group_size)                 # 7\n",
    "print(math.floor(no_of_student / group_size))      # 7\n",
    "print(round(no_of_student / group_size, 2))        # 7.6"
   ]
  },
  {
   "cell_type": "code",
   "execution_count": null,
   "id": "42059716",
   "metadata": {},
   "outputs": [
    {
     "name": "stdout",
     "output_type": "stream",
     "text": [
      "0.3\n"
     ]
    }
   ],
   "source": [
    "from decimal import Decimal\n",
    "\n",
    "# print(Decimal(0.1) + Decimal(0.2))\n",
    "print(Decimal(str(0.1)) + Decimal(str(0.2)))        # 0.3"
   ]
  }
 ],
 "metadata": {
  "kernelspec": {
   "display_name": "bootcamp-env",
   "language": "python",
   "name": "python3"
  },
  "language_info": {
   "codemirror_mode": {
    "name": "ipython",
    "version": 3
   },
   "file_extension": ".py",
   "mimetype": "text/x-python",
   "name": "python",
   "nbconvert_exporter": "python",
   "pygments_lexer": "ipython3",
   "version": "3.13.8"
  }
 },
 "nbformat": 4,
 "nbformat_minor": 5
}
