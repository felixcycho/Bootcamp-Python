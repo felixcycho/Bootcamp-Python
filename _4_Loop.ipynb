{
 "cells": [
  {
   "cell_type": "code",
   "execution_count": null,
   "id": "0bebd378",
   "metadata": {},
   "outputs": [
    {
     "name": "stdout",
     "output_type": "stream",
     "text": [
      "<class 'list'>\n",
      "apple\n",
      "orange\n",
      "lemon\n",
      "0\n",
      "1\n",
      "2\n",
      "3\n",
      "4\n",
      "b\n",
      "o\n",
      "o\n",
      "t\n",
      "c\n",
      "a\n",
      "m\n",
      "p\n"
     ]
    }
   ],
   "source": [
    "fruits = [\"apple\", \"orange\", \"lemon\"]\n",
    "print(type(fruits))     # list\n",
    "\n",
    "# Java for-each\n",
    "for f in fruits:\n",
    "  print(f)\n",
    "\n",
    "# for (int i = 0; i < 5; i++)\n",
    "for i in range(5):\n",
    "  print(i)\n",
    "\n",
    "for c in \"bootcamp\":\n",
    "  print(c)\n"
   ]
  },
  {
   "cell_type": "code",
   "execution_count": null,
   "id": "05f304ba",
   "metadata": {},
   "outputs": [
    {
     "name": "stdout",
     "output_type": "stream",
     "text": [
      "1\n",
      "3\n",
      "5\n",
      "7\n",
      "9\n",
      "2\n",
      "4\n",
      "6\n",
      "8\n",
      "10\n"
     ]
    }
   ],
   "source": [
    "# print odd number (1-10)\n",
    "for i in range(11):\n",
    "  if (i % 2 != 0 and 1 > 0):\n",
    "    print(i)\n",
    "\n",
    "# Use continue, print even number (1-10)\n",
    "for i in range(11):\n",
    "  if (i % 2 == 1 or i == 0):\n",
    "    continue\n",
    "  print(i)\n"
   ]
  },
  {
   "cell_type": "code",
   "execution_count": null,
   "id": "ff11ffb2",
   "metadata": {},
   "outputs": [
    {
     "name": "stdout",
     "output_type": "stream",
     "text": [
      "True\n",
      "r exists = True\n"
     ]
    }
   ],
   "source": [
    "word = \"Hello world!!!\"\n",
    "print(\"r\" in word)                 # True\n",
    "# Searching: does \"r\" character exists\n",
    "# True / False\n",
    "is_r_exist = False\n",
    "\n",
    "for c in word:\n",
    "  if (c == 'r'):\n",
    "    is_r_exist = True\n",
    "    break\n",
    "print(f\"r exists = {is_r_exist}\")   # r exists = True"
   ]
  },
  {
   "cell_type": "code",
   "execution_count": null,
   "id": "cf41b6cf",
   "metadata": {},
   "outputs": [
    {
     "name": "stdout",
     "output_type": "stream",
     "text": [
      "hello\n",
      "hello\n",
      "hello\n",
      "hello\n",
      "hello\n",
      "John\n",
      "Steven\n",
      "Tommy\n",
      "Steven is found.\n"
     ]
    }
   ],
   "source": [
    "# while loop\n",
    "\n",
    "count = 0\n",
    "while (count < 5):\n",
    "  print(\"hello\")\n",
    "  count += 1\n",
    "\n",
    "names = [\"John\", \"Steven\", \"Tommy\"]\n",
    "\n",
    "for i in range(len(names)):\n",
    "  print(names[i])\n",
    "\n",
    "is_steven_exist = False\n",
    "idx = 0\n",
    "while (idx < len(names)):\n",
    "  if (names[idx] == 'Steven'):\n",
    "    is_steven_found = True\n",
    "    break\n",
    "  idx += 1\n",
    "\n",
    "if (is_steven_found):\n",
    "  print(\"Steven is found.\")"
   ]
  },
  {
   "cell_type": "code",
   "execution_count": 1,
   "id": "6944b2f9",
   "metadata": {},
   "outputs": [
    {
     "name": "stdout",
     "output_type": "stream",
     "text": [
      "12\n",
      "1\n",
      "26\n",
      "4\n",
      "Average = 6.5\n",
      "3\n",
      "3\n",
      "0\n"
     ]
    }
   ],
   "source": [
    "# max, min, sum\n",
    "numbers = [1, 4, 9, 12]\n",
    "print(max(numbers))\n",
    "print(min(numbers))\n",
    "print(sum(numbers))\n",
    "print(len(numbers))\n",
    "print(f\"Average = {sum(numbers) / len(numbers)}\")\n",
    "\n",
    "print(numbers.index(12))\n",
    "print(numbers.index(max(numbers)))\n",
    "print(numbers.index(min(numbers)))"
   ]
  }
 ],
 "metadata": {
  "kernelspec": {
   "display_name": "bootcamp-env",
   "language": "python",
   "name": "python3"
  },
  "language_info": {
   "codemirror_mode": {
    "name": "ipython",
    "version": 3
   },
   "file_extension": ".py",
   "mimetype": "text/x-python",
   "name": "python",
   "nbconvert_exporter": "python",
   "pygments_lexer": "ipython3",
   "version": "3.13.8"
  }
 },
 "nbformat": 4,
 "nbformat_minor": 5
}
