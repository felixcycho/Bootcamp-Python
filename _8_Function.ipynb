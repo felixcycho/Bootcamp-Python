{
 "cells": [
  {
   "cell_type": "code",
   "execution_count": null,
   "id": "edec099c",
   "metadata": {},
   "outputs": [
    {
     "name": "stdout",
     "output_type": "stream",
     "text": [
      "hello\n"
     ]
    }
   ],
   "source": [
    "def hello():\n",
    "  print(\"hello\")\n",
    "\n",
    "hello()     # hello"
   ]
  },
  {
   "cell_type": "code",
   "execution_count": 3,
   "id": "031c42e1",
   "metadata": {},
   "outputs": [
    {
     "name": "stdout",
     "output_type": "stream",
     "text": [
      "7\n",
      "7\n"
     ]
    }
   ],
   "source": [
    "def sum(x, y):\n",
    "  return x + y\n",
    "\n",
    "print(sum(3, 4))           # 7\n",
    "print(sum(11, -4))          # 7"
   ]
  },
  {
   "cell_type": "code",
   "execution_count": null,
   "id": "74c2e0a2",
   "metadata": {},
   "outputs": [
    {
     "name": "stdout",
     "output_type": "stream",
     "text": [
      "r1 = 18, r2 = 6, r3 = 72, r4 = 2.0\n"
     ]
    }
   ],
   "source": [
    "def operation(x, y):\n",
    "  return x + y, x - y, x * y, x / y\n",
    "\n",
    "r1, r2, r3, r4 = operation(12, 6)\n",
    "print(f\"r1 = {r1}, r2 = {r2}, r3 = {r3}, r4 = {r4}\")      # r1 = 18, r2 = 6, r3 = 72, r4 = 2.0"
   ]
  },
  {
   "cell_type": "code",
   "execution_count": null,
   "id": "cb231662",
   "metadata": {},
   "outputs": [
    {
     "name": "stdout",
     "output_type": "stream",
     "text": [
      "max = 100, min = -4\n",
      "median = 85.0, mean = 66.5, stdev = 47.7039481245176\n"
     ]
    }
   ],
   "source": [
    "import statistics\n",
    "numbers = [100, 90, -4, 80]\n",
    "\n",
    "def get_max_min(nums):\n",
    "  return max(nums), min(nums), statistics.median(nums), statistics.mean(nums), statistics.stdev(nums)\n",
    "\n",
    "max_value, min_value, median_value, mean_value, stdev_value = get_max_min(numbers)\n",
    "print(f\"max = {max_value}, min = {min_value}\")                                    \n",
    "# max = 100, min = -4\n",
    "print(f\"median = {median_value}, mean = {mean_value}, stdev = {stdev_value}\")     \n",
    "# median = 85.0, mean = 66.5, stdev = 47.7039481245176"
   ]
  },
  {
   "cell_type": "code",
   "execution_count": null,
   "id": "d421ea51",
   "metadata": {},
   "outputs": [
    {
     "name": "stdout",
     "output_type": "stream",
     "text": [
      "0.36\n"
     ]
    }
   ],
   "source": [
    "def _2dp(num):\n",
    "  return round(num, 2)\n",
    "\n",
    "print(_2dp(0.1234 + 0.234))         # 0.36"
   ]
  },
  {
   "cell_type": "code",
   "execution_count": null,
   "id": "78620b75",
   "metadata": {},
   "outputs": [
    {
     "name": "stdout",
     "output_type": "stream",
     "text": [
      "John, hello!!!\n",
      "Jacky, hello!!!\n"
     ]
    }
   ],
   "source": [
    "def greeting(name = \"Jacky\"):\n",
    "  return name + \", hello!!!\"\n",
    "\n",
    "print(greeting(\"John\"))          # John, hello!!!\n",
    "print(greeting())                # Jacky, hello!!!"
   ]
  },
  {
   "cell_type": "code",
   "execution_count": null,
   "id": "d7cb9083",
   "metadata": {},
   "outputs": [
    {
     "name": "stdout",
     "output_type": "stream",
     "text": [
      "True\n",
      "False\n"
     ]
    }
   ],
   "source": [
    "# function is_odd -> True/False\n",
    "def is_odd(x: int) -> bool:\n",
    "  return True if x % 2 == 1 else False\n",
    "\n",
    "print(is_odd(9))           # True\n",
    "print(is_odd(10))          # False\n",
    "\n",
    "# print(is_odd(\"John\"))      # TypeError: not all arguments converted during string formatting"
   ]
  },
  {
   "cell_type": "code",
   "execution_count": 17,
   "id": "fcc02dcf",
   "metadata": {},
   "outputs": [
    {
     "name": "stdout",
     "output_type": "stream",
     "text": [
      "{'John', 'Jennie', 'Leo'}\n",
      "['John', 'Jennie', 'Leo']\n",
      "['John', 'Jennie', 'Leo']\n"
     ]
    }
   ],
   "source": [
    "names = ['John', 'Jennie', 'Leo', 'Jennie']\n",
    "name_set = set(names)\n",
    "print(name_set)           # {'John', 'Jennie', 'Leo'}\n",
    "print(list(name_set))     # ['John', 'Jennie', 'Leo']\n",
    "\n",
    "print(list(set(names)))   # ['John', 'Jennie', 'Leo']"
   ]
  },
  {
   "cell_type": "code",
   "execution_count": 1,
   "id": "0a4f67d6",
   "metadata": {},
   "outputs": [
    {
     "name": "stdout",
     "output_type": "stream",
     "text": [
      "64\n",
      "<filter object at 0x0000021821350430>\n",
      "[10, 100, 4]\n",
      "<filter object at 0x00000218213509D0>\n",
      "['Jennie', 'Lucas']\n",
      "['Jennie', 'Lucas']\n"
     ]
    }
   ],
   "source": [
    "# lambda\n",
    "\n",
    "square_formula = lambda x : x ** 2\n",
    "print(square_formula(8))              # 64\n",
    "\n",
    "numbers = [7, 10, 23, 100, 4, 5]\n",
    "even_numbers = filter(lambda x : x % 2 == 0, numbers)\n",
    "print(even_numbers)                  # <filter object at 0x000001BC50913550>\n",
    "even_number_list = list(even_numbers)\n",
    "print(even_number_list)              # [10, 100, 4]\n",
    "\n",
    "names = [\"Jennie\", \"Joe\", \"Ben\", \"Lucas\"]\n",
    "# find names with length > 4\n",
    "names_larger_four = filter(lambda name : len(name) > 4, names)\n",
    "print(names_larger_four)             # <filter object at 0x000001BC508EB3D0>\n",
    "names_larger_four_list = list(names_larger_four)\n",
    "print(names_larger_four_list)        # ['Jennie', 'Lucas']\n",
    "\n",
    "target_names = list(filter(lambda x : len(x) > 4, names))\n",
    "print(target_names)                  # ['Jennie', 'Lucas']\n",
    "\n"
   ]
  }
 ],
 "metadata": {
  "kernelspec": {
   "display_name": "bootcamp-env",
   "language": "python",
   "name": "python3"
  },
  "language_info": {
   "codemirror_mode": {
    "name": "ipython",
    "version": 3
   },
   "file_extension": ".py",
   "mimetype": "text/x-python",
   "name": "python",
   "nbconvert_exporter": "python",
   "pygments_lexer": "ipython3",
   "version": "3.13.8"
  }
 },
 "nbformat": 4,
 "nbformat_minor": 5
}
